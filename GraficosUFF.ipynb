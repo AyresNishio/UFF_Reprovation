{
 "cells": [
  {
   "cell_type": "code",
   "execution_count": 5,
   "metadata": {},
   "outputs": [],
   "source": [
    "import pandas as pd\n",
    "import matplotlib.pyplot as plt\n",
    "plt.close(\"all\")\n"
   ]
  },
  {
   "cell_type": "code",
   "execution_count": 16,
   "metadata": {},
   "outputs": [
    {
     "name": "stdout",
     "output_type": "stream",
     "text": [
      "                            Disciplina     Ciclo  Período  2015.1  2015.2  \\\n",
      "0  ADMINISTRAÇÃO APLICADA À ENGENHARIA    Básico        3       3       0   \n",
      "1        ADMINISTRACAO E ORGANIZACAO I  Optativa        0       1       4   \n",
      "2           ADMINISTRAÇÃO FINANCEIRA I  Optativa        0       0       0   \n",
      "3                       ÁLGEBRA LINEAR    Básico        2       0       6   \n",
      "4              ÁLGEBRA LINEAR APLICADA    Básico        1       1       2   \n",
      "\n",
      "   2016.1  2016.2  2017.1  2017.2  2018.1  2018.2  2019.1  2019.2  2020.1  \\\n",
      "0      13       3      14       6       2       4       7       3       4   \n",
      "1       0       0       0       0       0       0       0       0       0   \n",
      "2       0       0       0       0       0       0       0       2       1   \n",
      "3       6       3      12       6      17       8      14      19       9   \n",
      "4       3       0       2       0       0       0       0       0       0   \n",
      "\n",
      "   2020.2  2021.1  2021.2  2022.1  \n",
      "0       5       4       5       4  \n",
      "1       0       0       0       0  \n",
      "2       0       1       0       0  \n",
      "3      14      15      13      21  \n",
      "4       0       0       0       0  \n"
     ]
    }
   ],
   "source": [
    "df_reprov = pd.read_csv('Reps.csv',delimiter=';', encoding='UTF-8')\n",
    "\n",
    "print(df_reprov.head(5))"
   ]
  },
  {
   "cell_type": "code",
   "execution_count": 50,
   "metadata": {},
   "outputs": [
    {
     "name": "stdout",
     "output_type": "stream",
     "text": [
      "{'Periodo 1': 2015.1     70\n",
      "2015.2    162\n",
      "2016.1    166\n",
      "2016.2     70\n",
      "2017.1    100\n",
      "2017.2     66\n",
      "2018.1    121\n",
      "2018.2    115\n",
      "2019.1    151\n",
      "2019.2    142\n",
      "2020.1    102\n",
      "2020.2    117\n",
      "2021.1    121\n",
      "2021.2    143\n",
      "2022.1    160\n",
      "dtype: object}\n"
     ]
    }
   ],
   "source": [
    "df_p1=df_reprov[df_reprov['Período'] == 1]\n",
    "df_p1.columns[3]\n",
    "\n",
    "Dados = {}\n",
    "\n",
    "A1 = df_p1.sum(0)[3:]\n",
    "# for i in A1:\n",
    "#     Dados.append(i)\n",
    "Dados['Periodo 1'] =A1\n",
    "print(Dados['Periodo'])\n",
    "\n",
    "# df_p2=df_reprov[df_reprov['Período'] == 2]\n",
    "# df_p2.columns[3]\n",
    "\n",
    "# A2 = df_p2.sum(0)[3:]\n",
    "\n",
    "# A1.append(A2)\n",
    "# #A.plot.bar()"
   ]
  }
 ],
 "metadata": {
  "kernelspec": {
   "display_name": "Python 3.9.13 64-bit (microsoft store)",
   "language": "python",
   "name": "python3"
  },
  "language_info": {
   "codemirror_mode": {
    "name": "ipython",
    "version": 3
   },
   "file_extension": ".py",
   "mimetype": "text/x-python",
   "name": "python",
   "nbconvert_exporter": "python",
   "pygments_lexer": "ipython3",
   "version": "3.9.13"
  },
  "orig_nbformat": 4,
  "vscode": {
   "interpreter": {
    "hash": "6c03531b4b3697884a919690ca2d14b8504105f80e859a9f5f029be47f9dca13"
   }
  }
 },
 "nbformat": 4,
 "nbformat_minor": 2
}
