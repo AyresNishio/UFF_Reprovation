{
 "cells": [
  {
   "cell_type": "code",
   "execution_count": 1,
   "metadata": {},
   "outputs": [],
   "source": [
    "import pandas as pd\n",
    "import numpy as np\n",
    "import requests\n",
    "from pandas.io.html import read_html"
   ]
  },
  {
   "cell_type": "code",
   "execution_count": 5,
   "metadata": {},
   "outputs": [
    {
     "name": "stdout",
     "output_type": "stream",
     "text": [
      "['20171', '20172', '20181', '20182', '20191', '20192', '20201', '20202', '20211', '20212', '20221']\n"
     ]
    }
   ],
   "source": [
    "# Cria lista de periodos para avaliação.\n",
    "begining_year = 2017\n",
    "begining_bimester = 1\n",
    "\n",
    "semester = [begining_year,begining_bimester]\n",
    "\n",
    "max_year = 2022\n",
    "max_bimester = 1\n",
    "max_semester = [max_year,max_bimester]\n",
    "\n",
    "semesters = []\n",
    "while semester != max_semester:\n",
    "    semesters.append(f'{semester[0]}{semester[1]}')\n",
    "    if   semester[1] == 1: \n",
    "        semester[1] = 2\n",
    "    elif semester[1] == 2: \n",
    "        semester[1] = 1 \n",
    "        semester[0] +=1\n",
    "semesters.append(f'{max_semester[0]}{max_semester[1]}')\n",
    "print(semesters)"
   ]
  },
  {
   "cell_type": "code",
   "execution_count": 6,
   "metadata": {},
   "outputs": [
    {
     "name": "stdout",
     "output_type": "stream",
     "text": [
      "      Código                               Disciplina  Reprovações\n",
      "50  MND00025  ESTAGIO SUPERVISIONADO NUTRICAO CLINICA            1\n",
      "51  MNS00042                      ALIMENTAÇÃO ESCOLAR            1\n",
      "52  MBO00023                 MICROSCÓPIA DE ALIMENTOS            1\n",
      "      Código                               Disciplina  Reprovações\n",
      "53  MND00025  ESTAGIO SUPERVISIONADO NUTRICAO CLINICA            1\n",
      "54  MIP00088                        PARASITOLOGIA III            1\n",
      "55  MNS00042                      ALIMENTAÇÃO ESCOLAR            1\n"
     ]
    }
   ],
   "source": [
    "#Faz downloads das tabelas das páginas do portal\n",
    "#A engenharia elétrica possui duas páginas, devido à quantidade de disciplinas.\n",
    "\n",
    "page  = 'https://app.uff.br/transparencia/disciplinas_que_mais_reprovam?utf8=true&curso=9&periodo=20171'\n",
    "page2 = 'https://app.uff.br/transparencia/disciplinas_que_mais_reprovam?curso=9&page=2&periodo=20171&utf8=true'\n",
    "\n",
    "\n",
    "#Uma tabela por período\n",
    "tables_uff = []\n",
    "\n",
    "#Unifica em uma tabela as duas páginas\n",
    "for semester in semesters:\n",
    "    page = page.replace(page[89::],semester)\n",
    "    page2 = page2.replace(page2[86:91],semester)\n",
    "    table_uff_page1 = read_html(page,  attrs={\"class\":\"table table-striped table-bordered table-hover\"})\n",
    "    table_uff_page2 = read_html(page2,  attrs={\"class\":\"table table-striped table-bordered table-hover\"})\n",
    "    table_uff=table_uff_page1[0].append(table_uff_page2[0],ignore_index=True)\n",
    "    tables_uff.append(table_uff)\n",
    "\n",
    "#Imprime final das listas\n",
    "print(tables_uff[1].tail(3))\n",
    "print(tables_uff[2].tail(3))"
   ]
  },
  {
   "cell_type": "code",
   "execution_count": 7,
   "metadata": {},
   "outputs": [
    {
     "name": "stdout",
     "output_type": "stream",
     "text": [
      "total de disciplinas: 90\n"
     ]
    }
   ],
   "source": [
    "#Organiza conjunto de nomes de disciplinas \n",
    "set_discipline = set([])\n",
    "# Como cada periodo possui um número diferente de disciplinas \n",
    "# utilizei a estrutura de conjuntos para agrupar todas as disciplinas das tabelas sem permitir repetição\n",
    "\n",
    "for table in tables_uff:\n",
    "    set_discipline.update(table['Disciplina'])\n",
    "\n",
    "# Lista de disciplinas\n",
    "#print(set_discipline)\n",
    "# Quantidade de disciplinas\n",
    "print(f'total de disciplinas: {len(set_discipline)}')\n",
    "\n",
    "#Cria dicionário {chave: nome_da_disciplina: nº_de_reprovações}\n",
    "#nº de reprovações inicializado com zero\n",
    "reprovations={}\n",
    "for discipline in set_discipline:\n",
    "    reprovations[discipline] = np.zeros(len(tables_uff),np.int16)\n",
    "\n",
    "# Completa o dicionário\n",
    "j=0\n",
    "for table in tables_uff:\n",
    "        for i in range(len(table)):\n",
    "                discipline = table['Disciplina'][i]\n",
    "                n_reprovations = table['Reprovações'][i]\n",
    "                reprovations[discipline][j] = n_reprovations\n",
    "        j=j+1\n"
   ]
  },
  {
   "cell_type": "code",
   "execution_count": null,
   "metadata": {},
   "outputs": [],
   "source": [
    "#Constroi tabela do excel(.csv) Disciplina; nº de reprovações por semestre;\n",
    "import csv\n",
    "with open('Reprovações Nutrição.csv', 'w') as f:\n",
    "\n",
    "    #Cabeçalho\n",
    "    f.write('Disciplina')\n",
    "    for semester in semesters:\n",
    "        f.write(f';{semester[:4]}.{semester[4]}')\n",
    "    f.write('\\n')\n",
    "\n",
    "    #Dados\n",
    "    for discipline_name in reprovations.keys():\n",
    "        f.write(discipline_name)\n",
    "        for reprovation in reprovations[discipline_name]: \n",
    "            f.write(f';{reprovation}')\n",
    "        f.write('\\n')"
   ]
  }
 ],
 "metadata": {
  "kernelspec": {
   "display_name": "Python 3",
   "language": "python",
   "name": "python3"
  },
  "language_info": {
   "codemirror_mode": {
    "name": "ipython",
    "version": 3
   },
   "file_extension": ".py",
   "mimetype": "text/x-python",
   "name": "python",
   "nbconvert_exporter": "python",
   "pygments_lexer": "ipython3",
   "version": "3.9.13 (tags/v3.9.13:6de2ca5, May 17 2022, 16:36:42) [MSC v.1929 64 bit (AMD64)]"
  },
  "orig_nbformat": 4,
  "vscode": {
   "interpreter": {
    "hash": "6c03531b4b3697884a919690ca2d14b8504105f80e859a9f5f029be47f9dca13"
   }
  }
 },
 "nbformat": 4,
 "nbformat_minor": 2
}
